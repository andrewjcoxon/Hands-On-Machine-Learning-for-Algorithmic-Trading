{
  "nbformat": 4,
  "nbformat_minor": 0,
  "metadata": {
    "colab": {
      "name": "DMAC.ipynb",
      "provenance": [],
      "authorship_tag": "ABX9TyOTggulGjalDOCXwh2Jt2FE",
      "include_colab_link": true
    },
    "kernelspec": {
      "name": "python3",
      "display_name": "Python 3"
    }
  },
  "cells": [
    {
      "cell_type": "markdown",
      "metadata": {
        "id": "view-in-github",
        "colab_type": "text"
      },
      "source": [
        "<a href=\"https://colab.research.google.com/github/andrewjcoxon/Hands-On-Machine-Learning-for-Algorithmic-Trading/blob/master/DMAC.ipynb\" target=\"_parent\"><img src=\"https://colab.research.google.com/assets/colab-badge.svg\" alt=\"Open In Colab\"/></a>"
      ]
    },
    {
      "cell_type": "markdown",
      "metadata": {
        "id": "8WRWSuCWxTgf",
        "colab_type": "text"
      },
      "source": [
        "This program uses the Moving Average Covergence/Divergence (MAC) crossover \n",
        "to determine when to buy and sell stock"
      ]
    },
    {
      "cell_type": "code",
      "metadata": {
        "id": "b2Cp9Mars2A_",
        "colab_type": "code",
        "colab": {}
      },
      "source": [
        "import pandas as pd\n",
        "import numpy as np\n",
        "import matplotlib.pyplot as plt\n",
        "from pandas_datareader import data\n",
        "from pandas import DataFrame\n",
        "plt.style.use('fivethirtyeight')"
      ],
      "execution_count": 34,
      "outputs": []
    },
    {
      "cell_type": "code",
      "metadata": {
        "id": "1836AtSXtnt4",
        "colab_type": "code",
        "colab": {}
      },
      "source": [
        "tickers = ['AAPL', 'MSFT', '^BA']"
      ],
      "execution_count": 35,
      "outputs": []
    },
    {
      "cell_type": "code",
      "metadata": {
        "id": "ZwW0e6lsttBL",
        "colab_type": "code",
        "colab": {}
      },
      "source": [
        "start_date = '2015-06-19'\n",
        "end_date = '2020-06-18'"
      ],
      "execution_count": 37,
      "outputs": []
    },
    {
      "cell_type": "code",
      "metadata": {
        "id": "k62EqWx_t9-3",
        "colab_type": "code",
        "colab": {
          "base_uri": "https://localhost:8080/",
          "height": 235
        },
        "outputId": "c7d0f8b6-1630-482b-8182-153dcc466456"
      },
      "source": [
        "df = data.DataReader('AAPL', 'yahoo', start_date, end_date)\n",
        "\n",
        "df.head()"
      ],
      "execution_count": 55,
      "outputs": [
        {
          "output_type": "execute_result",
          "data": {
            "text/html": [
              "<div>\n",
              "<style scoped>\n",
              "    .dataframe tbody tr th:only-of-type {\n",
              "        vertical-align: middle;\n",
              "    }\n",
              "\n",
              "    .dataframe tbody tr th {\n",
              "        vertical-align: top;\n",
              "    }\n",
              "\n",
              "    .dataframe thead th {\n",
              "        text-align: right;\n",
              "    }\n",
              "</style>\n",
              "<table border=\"1\" class=\"dataframe\">\n",
              "  <thead>\n",
              "    <tr style=\"text-align: right;\">\n",
              "      <th></th>\n",
              "      <th>High</th>\n",
              "      <th>Low</th>\n",
              "      <th>Open</th>\n",
              "      <th>Close</th>\n",
              "      <th>Volume</th>\n",
              "      <th>Adj Close</th>\n",
              "    </tr>\n",
              "    <tr>\n",
              "      <th>Date</th>\n",
              "      <th></th>\n",
              "      <th></th>\n",
              "      <th></th>\n",
              "      <th></th>\n",
              "      <th></th>\n",
              "      <th></th>\n",
              "    </tr>\n",
              "  </thead>\n",
              "  <tbody>\n",
              "    <tr>\n",
              "      <th>2015-06-19</th>\n",
              "      <td>127.820000</td>\n",
              "      <td>126.400002</td>\n",
              "      <td>127.709999</td>\n",
              "      <td>126.599998</td>\n",
              "      <td>54716900.0</td>\n",
              "      <td>116.675667</td>\n",
              "    </tr>\n",
              "    <tr>\n",
              "      <th>2015-06-22</th>\n",
              "      <td>128.059998</td>\n",
              "      <td>127.080002</td>\n",
              "      <td>127.489998</td>\n",
              "      <td>127.610001</td>\n",
              "      <td>34039300.0</td>\n",
              "      <td>117.606491</td>\n",
              "    </tr>\n",
              "    <tr>\n",
              "      <th>2015-06-23</th>\n",
              "      <td>127.610001</td>\n",
              "      <td>126.879997</td>\n",
              "      <td>127.480003</td>\n",
              "      <td>127.029999</td>\n",
              "      <td>30268900.0</td>\n",
              "      <td>117.071945</td>\n",
              "    </tr>\n",
              "    <tr>\n",
              "      <th>2015-06-24</th>\n",
              "      <td>129.800003</td>\n",
              "      <td>127.120003</td>\n",
              "      <td>127.209999</td>\n",
              "      <td>128.110001</td>\n",
              "      <td>55280900.0</td>\n",
              "      <td>118.067299</td>\n",
              "    </tr>\n",
              "    <tr>\n",
              "      <th>2015-06-25</th>\n",
              "      <td>129.199997</td>\n",
              "      <td>127.500000</td>\n",
              "      <td>128.860001</td>\n",
              "      <td>127.500000</td>\n",
              "      <td>31938100.0</td>\n",
              "      <td>117.505127</td>\n",
              "    </tr>\n",
              "  </tbody>\n",
              "</table>\n",
              "</div>"
            ],
            "text/plain": [
              "                  High         Low  ...      Volume   Adj Close\n",
              "Date                                ...                        \n",
              "2015-06-19  127.820000  126.400002  ...  54716900.0  116.675667\n",
              "2015-06-22  128.059998  127.080002  ...  34039300.0  117.606491\n",
              "2015-06-23  127.610001  126.879997  ...  30268900.0  117.071945\n",
              "2015-06-24  129.800003  127.120003  ...  55280900.0  118.067299\n",
              "2015-06-25  129.199997  127.500000  ...  31938100.0  117.505127\n",
              "\n",
              "[5 rows x 6 columns]"
            ]
          },
          "metadata": {
            "tags": []
          },
          "execution_count": 55
        }
      ]
    },
    {
      "cell_type": "code",
      "metadata": {
        "id": "1BU_ZrdvzSSS",
        "colab_type": "code",
        "colab": {
          "base_uri": "https://localhost:8080/",
          "height": 272
        },
        "outputId": "a10a8125-279d-4b9d-c1fc-edb3427eab92"
      },
      "source": [
        "df. to_csv (r'C:\\Users\\andre\\ML Projects\\export_dataframe.csv', index = False, header=True)\n",
        "print(df)"
      ],
      "execution_count": 60,
      "outputs": [
        {
          "output_type": "stream",
          "text": [
            "                  High         Low  ...      Volume   Adj Close\n",
            "Date                                ...                        \n",
            "2015-06-19  127.820000  126.400002  ...  54716900.0  116.675667\n",
            "2015-06-22  128.059998  127.080002  ...  34039300.0  117.606491\n",
            "2015-06-23  127.610001  126.879997  ...  30268900.0  117.071945\n",
            "2015-06-24  129.800003  127.120003  ...  55280900.0  118.067299\n",
            "2015-06-25  129.199997  127.500000  ...  31938100.0  117.505127\n",
            "...                ...         ...  ...         ...         ...\n",
            "2020-06-12  347.799988  334.220001  ...  50001500.0  338.799988\n",
            "2020-06-15  345.679993  332.579987  ...  34702200.0  342.989990\n",
            "2020-06-16  353.200012  344.720001  ...  41357200.0  352.079987\n",
            "2020-06-17  355.399994  351.089996  ...  28532000.0  351.589996\n",
            "2020-06-18  353.450012  349.220001  ...  24205100.0  351.730011\n",
            "\n",
            "[1259 rows x 6 columns]\n"
          ],
          "name": "stdout"
        }
      ]
    },
    {
      "cell_type": "code",
      "metadata": {
        "id": "NFilmWGtzSW1",
        "colab_type": "code",
        "colab": {
          "base_uri": "https://localhost:8080/",
          "height": 272
        },
        "outputId": "ba84c0eb-0c1a-423a-c78f-2432261f2e38"
      },
      "source": [
        "df.describe"
      ],
      "execution_count": 61,
      "outputs": [
        {
          "output_type": "execute_result",
          "data": {
            "text/plain": [
              "<bound method NDFrame.describe of                   High         Low  ...      Volume   Adj Close\n",
              "Date                                ...                        \n",
              "2015-06-19  127.820000  126.400002  ...  54716900.0  116.675667\n",
              "2015-06-22  128.059998  127.080002  ...  34039300.0  117.606491\n",
              "2015-06-23  127.610001  126.879997  ...  30268900.0  117.071945\n",
              "2015-06-24  129.800003  127.120003  ...  55280900.0  118.067299\n",
              "2015-06-25  129.199997  127.500000  ...  31938100.0  117.505127\n",
              "...                ...         ...  ...         ...         ...\n",
              "2020-06-12  347.799988  334.220001  ...  50001500.0  338.799988\n",
              "2020-06-15  345.679993  332.579987  ...  34702200.0  342.989990\n",
              "2020-06-16  353.200012  344.720001  ...  41357200.0  352.079987\n",
              "2020-06-17  355.399994  351.089996  ...  28532000.0  351.589996\n",
              "2020-06-18  353.450012  349.220001  ...  24205100.0  351.730011\n",
              "\n",
              "[1259 rows x 6 columns]>"
            ]
          },
          "metadata": {
            "tags": []
          },
          "execution_count": 61
        }
      ]
    },
    {
      "cell_type": "code",
      "metadata": {
        "id": "g4EYnpDgzSZ0",
        "colab_type": "code",
        "colab": {
          "base_uri": "https://localhost:8080/",
          "height": 235
        },
        "outputId": "0a1c0adf-5387-434b-ad4a-81589b677e22"
      },
      "source": [
        "df.head()"
      ],
      "execution_count": 62,
      "outputs": [
        {
          "output_type": "execute_result",
          "data": {
            "text/html": [
              "<div>\n",
              "<style scoped>\n",
              "    .dataframe tbody tr th:only-of-type {\n",
              "        vertical-align: middle;\n",
              "    }\n",
              "\n",
              "    .dataframe tbody tr th {\n",
              "        vertical-align: top;\n",
              "    }\n",
              "\n",
              "    .dataframe thead th {\n",
              "        text-align: right;\n",
              "    }\n",
              "</style>\n",
              "<table border=\"1\" class=\"dataframe\">\n",
              "  <thead>\n",
              "    <tr style=\"text-align: right;\">\n",
              "      <th></th>\n",
              "      <th>High</th>\n",
              "      <th>Low</th>\n",
              "      <th>Open</th>\n",
              "      <th>Close</th>\n",
              "      <th>Volume</th>\n",
              "      <th>Adj Close</th>\n",
              "    </tr>\n",
              "    <tr>\n",
              "      <th>Date</th>\n",
              "      <th></th>\n",
              "      <th></th>\n",
              "      <th></th>\n",
              "      <th></th>\n",
              "      <th></th>\n",
              "      <th></th>\n",
              "    </tr>\n",
              "  </thead>\n",
              "  <tbody>\n",
              "    <tr>\n",
              "      <th>2015-06-19</th>\n",
              "      <td>127.820000</td>\n",
              "      <td>126.400002</td>\n",
              "      <td>127.709999</td>\n",
              "      <td>126.599998</td>\n",
              "      <td>54716900.0</td>\n",
              "      <td>116.675667</td>\n",
              "    </tr>\n",
              "    <tr>\n",
              "      <th>2015-06-22</th>\n",
              "      <td>128.059998</td>\n",
              "      <td>127.080002</td>\n",
              "      <td>127.489998</td>\n",
              "      <td>127.610001</td>\n",
              "      <td>34039300.0</td>\n",
              "      <td>117.606491</td>\n",
              "    </tr>\n",
              "    <tr>\n",
              "      <th>2015-06-23</th>\n",
              "      <td>127.610001</td>\n",
              "      <td>126.879997</td>\n",
              "      <td>127.480003</td>\n",
              "      <td>127.029999</td>\n",
              "      <td>30268900.0</td>\n",
              "      <td>117.071945</td>\n",
              "    </tr>\n",
              "    <tr>\n",
              "      <th>2015-06-24</th>\n",
              "      <td>129.800003</td>\n",
              "      <td>127.120003</td>\n",
              "      <td>127.209999</td>\n",
              "      <td>128.110001</td>\n",
              "      <td>55280900.0</td>\n",
              "      <td>118.067299</td>\n",
              "    </tr>\n",
              "    <tr>\n",
              "      <th>2015-06-25</th>\n",
              "      <td>129.199997</td>\n",
              "      <td>127.500000</td>\n",
              "      <td>128.860001</td>\n",
              "      <td>127.500000</td>\n",
              "      <td>31938100.0</td>\n",
              "      <td>117.505127</td>\n",
              "    </tr>\n",
              "  </tbody>\n",
              "</table>\n",
              "</div>"
            ],
            "text/plain": [
              "                  High         Low  ...      Volume   Adj Close\n",
              "Date                                ...                        \n",
              "2015-06-19  127.820000  126.400002  ...  54716900.0  116.675667\n",
              "2015-06-22  128.059998  127.080002  ...  34039300.0  117.606491\n",
              "2015-06-23  127.610001  126.879997  ...  30268900.0  117.071945\n",
              "2015-06-24  129.800003  127.120003  ...  55280900.0  118.067299\n",
              "2015-06-25  129.199997  127.500000  ...  31938100.0  117.505127\n",
              "\n",
              "[5 rows x 6 columns]"
            ]
          },
          "metadata": {
            "tags": []
          },
          "execution_count": 62
        }
      ]
    }
  ]
}